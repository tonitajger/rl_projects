{
 "cells": [
  {
   "cell_type": "code",
   "execution_count": 1,
   "metadata": {},
   "outputs": [
    {
     "name": "stderr",
     "output_type": "stream",
     "text": [
      "Using TensorFlow backend.\n"
     ]
    }
   ],
   "source": [
    "import random\n",
    "from collections import deque\n",
    "import time\n",
    "import pickle\n",
    "\n",
    "import numpy as np\n",
    "from matplotlib import pyplot as plt\n",
    "import gym\n",
    "from keras.layers import Dense\n",
    "from keras.models import Sequential\n",
    "from keras.optimizers import Adam\n"
   ]
  },
  {
   "cell_type": "code",
   "execution_count": 2,
   "metadata": {},
   "outputs": [],
   "source": [
    "class DQLSolver:\n",
    "    def __init__(self, nn, max_batch_size=1024, mini_batch_size=32):\n",
    "        self._nn = nn\n",
    "        self._batch = deque(maxlen=max_batch_size)\n",
    "        self.mini_batch_size = mini_batch_size\n",
    "    \n",
    "    def get_action(self, env, state, eps=.2):\n",
    "        # Choose action at random\n",
    "        if random.random() < eps:\n",
    "            return env.action_space.sample()\n",
    "        return np.argmax(self._nn.predict(np.array([state])))\n",
    "        \n",
    "    def remember(self, s, a, r, sn, done):\n",
    "        self._batch.append((s, a, r, sn, done))\n",
    "        return\n",
    "    \n",
    "    def exp_replay(self, gamma=.99):\n",
    "        if len(self._batch) < self.mini_batch_size:\n",
    "            return\n",
    "        mini_batch = random.sample(self._batch, self.mini_batch_size)\n",
    "        \n",
    "        state_vec = []\n",
    "        q_target_vec = []\n",
    "        for state, action, reward, state_new, done in mini_batch:\n",
    "            if done:\n",
    "                q_update = reward\n",
    "            else:\n",
    "                q_update = reward + gamma * np.amax(self._nn.predict(np.array([state_new])))\n",
    "            q_target = self._nn.predict(np.array([state]))\n",
    "            q_target[0][action] = q_update\n",
    "            state_vec.append(state)\n",
    "            q_target_vec.append(q_target[0])\n",
    "        \n",
    "        state_vec = np.array(state_vec)\n",
    "        q_target_vec = np.array(q_target_vec)\n",
    "        self._nn.fit(state_vec, q_target_vec, verbose=0, batch_size=self.mini_batch_size//4, epochs=1)\n",
    "    "
   ]
  },
  {
   "cell_type": "code",
   "execution_count": 3,
   "metadata": {},
   "outputs": [],
   "source": [
    "env = gym.make('MountainCar-v0')\n",
    "n_epi = 100\n",
    "\n",
    "model = Sequential()\n",
    "\n",
    "model.add(Dense(24, input_shape=env.observation_space.shape, activation='relu'))\n",
    "model.add(Dense(24, activation='relu'))\n",
    "model.add(Dense(env.action_space.n, activation='linear'))\n",
    "model.compile(loss='mse', optimizer=Adam(lr=.001))\n",
    "solver = DQLSolver(model)\n",
    "max_positions = []"
   ]
  },
  {
   "cell_type": "code",
   "execution_count": 54,
   "metadata": {},
   "outputs": [
    {
     "name": "stdout",
     "output_type": "stream",
     "text": [
      "maximal x encountered:-0.23590210732109815\n",
      "maximal x encountered:-0.38028358015348446\n",
      "maximal x encountered:-0.3785587104624871\n",
      "maximal x encountered:-0.3071663342714253\n",
      "maximal x encountered:-0.31246048991423087\n",
      "maximal x encountered:-0.400271893925957\n",
      "maximal x encountered:-0.27994109052595284\n",
      "maximal x encountered:0.05108851586255156\n",
      "maximal x encountered:0.157400420537714\n",
      "maximal x encountered:0.0033482692302112278\n",
      "maximal x encountered:0.4838684949988205\n",
      "maximal x encountered:0.17612165127996302\n",
      "maximal x encountered:0.4993747785021086\n",
      "maximal x encountered:0.4534429467639063\n",
      "maximal x encountered:0.4753233592789814\n",
      "maximal x encountered:-0.1194124670714407\n",
      "maximal x encountered:0.4928311980357733\n",
      "maximal x encountered:0.4763897753989178\n",
      "maximal x encountered:0.48920873492404676\n",
      "maximal x encountered:0.4869007238355066\n",
      "maximal x encountered:0.4979314215122791\n",
      "maximal x encountered:0.4779662342730699\n",
      "maximal x encountered:0.45543020632444275\n",
      "maximal x encountered:0.4869007238355066\n",
      "maximal x encountered:0.48088623105625067\n",
      "maximal x encountered:0.49270418853928416\n",
      "maximal x encountered:0.4849007238355066\n",
      "maximal x encountered:0.4869007238355066\n",
      "maximal x encountered:0.4869007238355066\n",
      "maximal x encountered:0.4869007238355066\n",
      "maximal x encountered:0.49724522779858543\n",
      "maximal x encountered:0.49655086145565763\n",
      "maximal x encountered:0.4869007238355066\n",
      "maximal x encountered:0.4614184481865363\n",
      "maximal x encountered:0.4765179597480564\n",
      "maximal x encountered:0.49795189395578804\n",
      "maximal x encountered:0.49509720509245325\n",
      "maximal x encountered:0.4928884987566428\n",
      "maximal x encountered:0.4559896367312106\n",
      "maximal x encountered:0.4931733014234619\n",
      "maximal x encountered:0.4831460716188896\n",
      "maximal x encountered:0.4806871420765372\n",
      "maximal x encountered:0.48516825436313743\n",
      "maximal x encountered:0.48915532210504314\n",
      "maximal x encountered:0.4918313811951963\n",
      "maximal x encountered:0.49249633846231444\n",
      "maximal x encountered:0.4733414412455598\n",
      "maximal x encountered:0.47037058743041693\n",
      "maximal x encountered:0.48675495672528923\n",
      "maximal x encountered:0.4944518393916139\n",
      "maximal x encountered:0.4810819544779195\n",
      "maximal x encountered:0.4884284129203954\n",
      "maximal x encountered:0.4989479123152377\n",
      "maximal x encountered:0.4880525074742365\n",
      "maximal x encountered:0.48462117636929797\n",
      "maximal x encountered:0.4930047089005691\n",
      "maximal x encountered:-0.02108174247479015\n",
      "maximal x encountered:0.4910550984315581\n",
      "maximal x encountered:0.4917726527635392\n",
      "maximal x encountered:0.4840154001157106\n",
      "maximal x encountered:0.4807278599562044\n",
      "maximal x encountered:0.49916033253791847\n",
      "maximal x encountered:0.49881799134799915\n",
      "maximal x encountered:0.4974746003526956\n",
      "maximal x encountered:0.4914225304952764\n",
      "maximal x encountered:0.4959108445552853\n",
      "maximal x encountered:0.4906486725778469\n",
      "maximal x encountered:0.4948514293512624\n",
      "maximal x encountered:0.49988707095837387\n",
      "maximal x encountered:0.4940549963628875\n",
      "maximal x encountered:0.49334912965554845\n",
      "maximal x encountered:0.4878514928579018\n",
      "maximal x encountered:0.3147385249930078\n",
      "maximal x encountered:0.4873688529084415\n",
      "maximal x encountered:0.49238479318141287\n",
      "maximal x encountered:0.47846414251880437\n",
      "maximal x encountered:0.4962109918759537\n",
      "maximal x encountered:0.4936789787061783\n",
      "maximal x encountered:0.4854237512848676\n",
      "maximal x encountered:0.4796268242544384\n",
      "maximal x encountered:0.4888909687238376\n",
      "maximal x encountered:0.4871781544196405\n",
      "maximal x encountered:0.49059415893783637\n",
      "maximal x encountered:0.42614233668296\n",
      "maximal x encountered:0.4905132151836784\n",
      "maximal x encountered:0.48532589678574106\n",
      "maximal x encountered:0.49759785293078607\n",
      "maximal x encountered:0.4852194738716921\n",
      "maximal x encountered:0.48408106602329815\n",
      "maximal x encountered:0.4854745854021933\n",
      "maximal x encountered:0.4879910115432252\n",
      "maximal x encountered:0.4837765838948377\n",
      "maximal x encountered:0.49833658801004277\n",
      "maximal x encountered:0.4862506392348899\n",
      "maximal x encountered:0.49874598653418256\n",
      "maximal x encountered:0.48536720254908544\n",
      "maximal x encountered:0.4845378065622365\n",
      "maximal x encountered:0.49754231667969456\n",
      "maximal x encountered:0.4908291698515271\n",
      "maximal x encountered:0.48410508623437376\n",
      "finished in 784.2960929870605 seconds\n"
     ]
    }
   ],
   "source": [
    "start = time.time()\n",
    "eps = .5\n",
    "monitor = True\n",
    "\n",
    "\n",
    "\n",
    "for i_epi in range(n_epi):\n",
    "    if not i_epi % 5:\n",
    "        eps = eps/(i_epi//5 + 1)\n",
    "    \n",
    "    x_max = -5\n",
    "    state = env.reset()\n",
    "    \n",
    "    for t in range(1000):\n",
    "\n",
    "        if state[0] > x_max:\n",
    "            x_max = state[0]\n",
    "        if not i_epi % 1 and monitor:\n",
    "            env.render()\n",
    "        # Choose epsilon greedy action\n",
    "        action = solver.get_action(env, state, eps=eps)\n",
    "        # step\n",
    "        state_new, reward, done, _ = env.step(action)\n",
    "        \n",
    "        reward = abs(state[0] + .5)**2 - .2 * abs(state[0] - .5)\n",
    "        if done and t < 199:\n",
    "            reward += 1\n",
    "        solver.remember(state, action, reward, state_new, done)\n",
    "        # experience replay\n",
    "        solver.exp_replay()\n",
    "        \n",
    "        if done:\n",
    "            max_positions.append(x_max)\n",
    "            print(f'maximal x encountered:{x_max}')\n",
    "            break\n",
    "            \n",
    "        state = state_new\n",
    "    \n",
    "env.close()\n",
    "print(f'finished in {time.time() - start} seconds')"
   ]
  },
  {
   "cell_type": "code",
   "execution_count": 62,
   "metadata": {},
   "outputs": [],
   "source": [
    "pickle.dump(solver, open('mountain_car_models/100iter.pkl','wb'))"
   ]
  },
  {
   "cell_type": "code",
   "execution_count": 64,
   "metadata": {},
   "outputs": [
    {
     "name": "stdout",
     "output_type": "stream",
     "text": [
      "100iter.pkl\r\n"
     ]
    }
   ],
   "source": []
  },
  {
   "cell_type": "code",
   "execution_count": 55,
   "metadata": {},
   "outputs": [
    {
     "data": {
      "text/plain": [
       "[<matplotlib.lines.Line2D at 0x6443e8d90>]"
      ]
     },
     "execution_count": 55,
     "metadata": {},
     "output_type": "execute_result"
    },
    {
     "data": {
      "image/png": "[encoded data removed]",
      "text/plain": [
       "<Figure size 432x288 with 1 Axes>"
      ]
     },
     "metadata": {
      "needs_background": "light"
     },
     "output_type": "display_data"
    }
   ],
   "source": [
    "plt.plot(max_positions)"
   ]
  },
  {
   "cell_type": "code",
   "execution_count": 4,
   "metadata": {},
   "outputs": [],
   "source": [
    "solver = pickle.load(open('mountain_car_models/100iter.pkl', 'rb'))"
   ]
  },
  {
   "cell_type": "code",
   "execution_count": 72,
   "metadata": {},
   "outputs": [
    {
     "name": "stdout",
     "output_type": "stream",
     "text": [
      "100iter.pkl\r\n"
     ]
    }
   ],
   "source": [
    "!ls  mountain_car_models/"
   ]
  },
  {
   "cell_type": "code",
   "execution_count": 7,
   "metadata": {},
   "outputs": [
    {
     "ename": "NameError",
     "evalue": "name 'start' is not defined",
     "output_type": "error",
     "traceback": [
      "\u001b[0;31m---------------------------------------------------------------------------\u001b[0m",
      "\u001b[0;31mNameError\u001b[0m                                 Traceback (most recent call last)",
      "\u001b[0;32m<ipython-input-7-b1566293c4c9>\u001b[0m in \u001b[0;36m<module>\u001b[0;34m\u001b[0m\n\u001b[1;32m     25\u001b[0m \u001b[0;34m\u001b[0m\u001b[0m\n\u001b[1;32m     26\u001b[0m \u001b[0menv\u001b[0m\u001b[0;34m.\u001b[0m\u001b[0mclose\u001b[0m\u001b[0;34m(\u001b[0m\u001b[0;34m)\u001b[0m\u001b[0;34m\u001b[0m\u001b[0;34m\u001b[0m\u001b[0m\n\u001b[0;32m---> 27\u001b[0;31m \u001b[0mprint\u001b[0m\u001b[0;34m(\u001b[0m\u001b[0;34mf'finished in {time.time() - start} seconds'\u001b[0m\u001b[0;34m)\u001b[0m\u001b[0;34m\u001b[0m\u001b[0;34m\u001b[0m\u001b[0m\n\u001b[0m",
      "\u001b[0;31mNameError\u001b[0m: name 'start' is not defined"
     ]
    }
   ],
   "source": [
    "x_max = -5\n",
    "n_epi = 30\n",
    "monitor = True\n",
    "\n",
    "for i_epi in range(n_epi):\n",
    "    state = env.reset()\n",
    "    \n",
    "    for t in range(1000):\n",
    "\n",
    "        if state[0] > x_max:\n",
    "            x_max = state[0]\n",
    "        if not i_epi % 1 and monitor:\n",
    "            env.render()\n",
    "        # Choose epsilon greedy action\n",
    "        action = solver.get_action(env, state, eps=0)\n",
    "        # step\n",
    "        state_new, reward, done, _ = env.step(action)\n",
    "        \n",
    "        reward = abs(state[0] + .5)**2 - .2 * abs(state[0] - .5)\n",
    "        \n",
    "        if done:\n",
    "            break\n",
    "            \n",
    "        state = state_new\n",
    "    \n",
    "env.close()\n",
    "print(f'finished in {time.time() - start} seconds')"
   ]
  },
  {
   "cell_type": "code",
   "execution_count": null,
   "metadata": {},
   "outputs": [],
   "source": []
  }
 ],
 "metadata": {
  "kernelspec": {
   "display_name": "Python 3",
   "language": "python",
   "name": "python3"
  },
  "language_info": {
   "codemirror_mode": {
    "name": "ipython",
    "version": 3
   },
   "file_extension": ".py",
   "mimetype": "text/x-python",
   "name": "python",
   "nbconvert_exporter": "python",
   "pygments_lexer": "ipython3",
   "version": "3.7.5"
  }
 },
 "nbformat": 4,
 "nbformat_minor": 2
}
