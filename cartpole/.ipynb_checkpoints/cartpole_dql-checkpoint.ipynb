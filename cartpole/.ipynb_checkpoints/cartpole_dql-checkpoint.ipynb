{
 "cells": [
  {
   "cell_type": "code",
   "execution_count": 1,
   "metadata": {},
   "outputs": [
    {
     "name": "stderr",
     "output_type": "stream",
     "text": [
      "Using TensorFlow backend.\n"
     ]
    }
   ],
   "source": [
    "import random\n",
    "from collections import deque\n",
    "\n",
    "import numpy as np\n",
    "import gym\n",
    "from keras.layers import Dense\n",
    "from keras.models import Sequential\n",
    "from keras.optimizers import Adam"
   ]
  },
  {
   "cell_type": "code",
   "execution_count": 4,
   "metadata": {},
   "outputs": [],
   "source": [
    "class DQLSolver:\n",
    "    def __init__(self, nn, max_batch_size=1024, mini_batch_size=32):\n",
    "        self._nn = nn\n",
    "        self._batch = deque(maxlen=max_batch_size)\n",
    "        self.mini_batch_size = mini_batch_size\n",
    "    \n",
    "    def get_action(self, env, state, eps=.2):\n",
    "        # Choose action at random\n",
    "        if random.random() < eps:\n",
    "            return env.action_space.sample()\n",
    "        return np.argmax(self._nn.predict(np.array([state])))\n",
    "        \n",
    "    def remember(self, s, a, r, sn, done):\n",
    "        self._batch.append((s, a, r, sn, done))\n",
    "        return\n",
    "    \n",
    "    def exp_replay(self, gamma=.99):\n",
    "        if len(self._batch) < self.mini_batch_size:\n",
    "            return\n",
    "        mini_batch = random.sample(self._batch, self.mini_batch_size)\n",
    "        \n",
    "        state_vec = []\n",
    "        q_target_vec = []\n",
    "        for state, action, reward, state_new, done in mini_batch:\n",
    "            if done:\n",
    "                q_update = reward\n",
    "            else:\n",
    "                q_update = reward + gamma * np.amax(self._nn.predict(np.array([state_new])))\n",
    "            q_target = self._nn.predict(np.array([state]))\n",
    "            q_target[0][action] = q_update\n",
    "            state_vec.append(state)\n",
    "            q_target_vec.append(q_target[0])\n",
    "        \n",
    "        state_vec = np.array(state_vec)\n",
    "        q_target_vec = np.array(q_target_vec)\n",
    "        self._nn.fit(state_vec, q_target_vec, verbose=0, batch_size=self.mini_batch_size//4, epochs=5)\n",
    "    \n",
    "    "
   ]
  },
  {
   "cell_type": "code",
   "execution_count": 5,
   "metadata": {},
   "outputs": [
    {
     "name": "stdout",
     "output_type": "stream",
     "text": [
      "9.0\n",
      "9.0\n",
      "45.0\n",
      "109.0\n",
      "144.0\n",
      "199.0\n"
     ]
    }
   ],
   "source": [
    "env = gym.make('CartPole-v0')\n",
    "n_epi = 30\n",
    "\n",
    "model = Sequential()\n",
    "\n",
    "model.add(Dense(24, input_shape=env.observation_space.shape, activation='relu'))\n",
    "model.add(Dense(24, activation='relu'))\n",
    "model.add(Dense(env.action_space.n, activation='linear'))\n",
    "model.compile(loss='mse', optimizer=Adam(lr=.001))\n",
    "solver = DQLSolver(model)\n",
    "\n",
    "monitor = True\n",
    "for i_epi in range(n_epi):\n",
    "    \n",
    "        \n",
    "    state = env.reset()\n",
    "    \n",
    "    avg_vec = []\n",
    "    for t in range(1000):\n",
    "        if not i_epi % 1 and monitor:\n",
    "            env.render()\n",
    "        # Choose epsilon greedy action\n",
    "        action = solver.get_action(env, state)\n",
    "        # step\n",
    "        state_new, reward, done, _ = env.step(action)\n",
    "        # reward\n",
    "        reward += 1\n",
    "        reward -= abs(state[0]) / 2.4\n",
    "        reward -= abs(state[1])\n",
    "        if done: reward -= -2\n",
    "        # Store sars\n",
    "        solver.remember(state, action, reward, state_new, done)\n",
    "        # experience replay\n",
    "        solver.exp_replay()\n",
    "        \n",
    "        if done:\n",
    "            avg_vec.append(t)\n",
    "            if not i_epi % 5:\n",
    "                print(np.mean(avg_vec))\n",
    "                avg_vec = []\n",
    "            break\n",
    "            \n",
    "        state = state_new\n",
    "    \n",
    "env.close()"
   ]
  },
  {
   "cell_type": "code",
   "execution_count": null,
   "metadata": {},
   "outputs": [],
   "source": []
  }
 ],
 "metadata": {
  "kernelspec": {
   "display_name": "Python 3",
   "language": "python",
   "name": "python3"
  },
  "language_info": {
   "codemirror_mode": {
    "name": "ipython",
    "version": 3
   },
   "file_extension": ".py",
   "mimetype": "text/x-python",
   "name": "python",
   "nbconvert_exporter": "python",
   "pygments_lexer": "ipython3",
   "version": "3.7.5"
  }
 },
 "nbformat": 4,
 "nbformat_minor": 2
}
